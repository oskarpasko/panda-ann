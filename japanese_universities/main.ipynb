{
 "cells": [
  {
   "cell_type": "markdown",
   "id": "3b454b7b",
   "metadata": {},
   "source": [
    "# Imports"
   ]
  },
  {
   "cell_type": "code",
   "execution_count": 158,
   "id": "50702152",
   "metadata": {},
   "outputs": [],
   "source": [
    "import pandas as pd\n",
    "import numpy as np\n",
    "import matplotlib.pyplot as plt\n",
    "\n",
    "from sklearn.model_selection import train_test_split\n",
    "from sklearn.preprocessing import LabelEncoder, StandardScaler\n",
    "from sklearn.metrics import confusion_matrix, ConfusionMatrixDisplay, classification_report\n",
    "\n",
    "import torch\n",
    "import torch.nn as nn\n",
    "import torch.optim as optim\n",
    "from torch.utils.data import DataLoader, TensorDataset"
   ]
  },
  {
   "cell_type": "markdown",
   "id": "c1af0b45",
   "metadata": {},
   "source": [
    "# Work with Data"
   ]
  },
  {
   "cell_type": "markdown",
   "id": "c73e3886",
   "metadata": {},
   "source": [
    "## Read original data"
   ]
  },
  {
   "cell_type": "code",
   "execution_count": 159,
   "id": "503fb12a",
   "metadata": {},
   "outputs": [],
   "source": [
    "read_df = pd.read_csv(\"japanese_universities.csv\")\n",
    "# print(read_df.to_string())"
   ]
  },
  {
   "cell_type": "markdown",
   "id": "66e3deae",
   "metadata": {},
   "source": [
    "## DataFrame with specific columns\n",
    "\n",
    "- faculty_count: the number of faculties in universities.\n",
    "- department_count: the number of departments in universities.\n",
    "- has_grad: the availability of the graduate school. True or False.\n",
    "- has_remote: the availability of the remote school. True or False.\n",
    "- review_rating: the review rating of universities.\n",
    "- review_count: the number of reviews of universities.\n",
    "- difficulty_SD: the standard deviation measurement of universities' difficulty.\n",
    "- difficulty_rank: the rank of universities' difficulty. The highest to lowest ranking order is - [S,A,B,C,D,E,F]\n"
   ]
  },
  {
   "cell_type": "code",
   "execution_count": 160,
   "id": "837788c8",
   "metadata": {},
   "outputs": [],
   "source": [
    "df = read_df[['faculty_count', 'department_count', 'has_remote', 'has_grad', \n",
    "              'review_rating', 'review_count', 'difficulty_SD', 'difficulty_rank']]\n",
    "# print(df.to_string())"
   ]
  },
  {
   "cell_type": "markdown",
   "id": "a0b4e691",
   "metadata": {},
   "source": [
    "# Preprocessing\n",
    "\n",
    "## Missing Data"
   ]
  },
  {
   "cell_type": "code",
   "execution_count": 161,
   "id": "c167036b",
   "metadata": {},
   "outputs": [
    {
     "name": "stdout",
     "output_type": "stream",
     "text": [
      "faculty_count       0.000000\n",
      "department_count    0.000000\n",
      "has_remote          0.000000\n",
      "has_grad            0.000000\n",
      "review_rating       1.845018\n",
      "review_count        1.845018\n",
      "difficulty_SD       7.257073\n",
      "difficulty_rank     7.257073\n",
      "dtype: float64\n"
     ]
    }
   ],
   "source": [
    "missing_percent = df.isnull().mean() * 100\n",
    "print(missing_percent)"
   ]
  },
  {
   "cell_type": "markdown",
   "id": "fd59526e",
   "metadata": {},
   "source": [
    "## Data frame with no missing data in difficulty_rank"
   ]
  },
  {
   "cell_type": "code",
   "execution_count": 162,
   "id": "0adb493b",
   "metadata": {},
   "outputs": [
    {
     "name": "stdout",
     "output_type": "stream",
     "text": [
      "faculty_count       0.0\n",
      "department_count    0.0\n",
      "has_remote          0.0\n",
      "has_grad            0.0\n",
      "review_rating       0.0\n",
      "review_count        0.0\n",
      "difficulty_SD       0.0\n",
      "difficulty_rank     0.0\n",
      "dtype: float64\n"
     ]
    }
   ],
   "source": [
    "train_df = df.dropna(subset=['difficulty_rank'])\n",
    "train_df = train_df.dropna(subset=['review_rating'])\n",
    "train_df = train_df.dropna(subset=['review_count'])\n",
    "\n",
    "missing_percent = train_df.isnull().mean() * 100\n",
    "print(missing_percent)\n",
    "\n",
    "# print(\"\\nOczyszczony DataFrame:\")\n",
    "# print(train_df.to_string())"
   ]
  },
  {
   "cell_type": "markdown",
   "id": "43f2de68",
   "metadata": {},
   "source": [
    "# Preparing data after preprocessing"
   ]
  },
  {
   "cell_type": "code",
   "execution_count": 163,
   "id": "e5dbf3d3",
   "metadata": {},
   "outputs": [],
   "source": [
    "Y = train_df[\"difficulty_rank\"]\n",
    "X = train_df.drop(columns=[\"difficulty_rank\"])"
   ]
  },
  {
   "cell_type": "markdown",
   "id": "d6382079",
   "metadata": {},
   "source": [
    "## one-hot"
   ]
  },
  {
   "cell_type": "code",
   "execution_count": 164,
   "id": "373682b2",
   "metadata": {},
   "outputs": [],
   "source": [
    "X = pd.get_dummies(X, drop_first=True)"
   ]
  },
  {
   "cell_type": "markdown",
   "id": "89edc9a1",
   "metadata": {},
   "source": [
    "## Label Encoding"
   ]
  },
  {
   "cell_type": "code",
   "execution_count": 165,
   "id": "dc7653a9",
   "metadata": {},
   "outputs": [],
   "source": [
    "le = LabelEncoder()\n",
    "y_encoded = le.fit_transform(Y)"
   ]
  },
  {
   "cell_type": "markdown",
   "id": "b11eb42c",
   "metadata": {},
   "source": [
    "## Split train_data = 80%, test_data = 20%"
   ]
  },
  {
   "cell_type": "code",
   "execution_count": 166,
   "id": "88e250e0",
   "metadata": {},
   "outputs": [],
   "source": [
    "X_train, X_test, y_train, y_test = train_test_split(\n",
    "    X, y_encoded, test_size=0.2, random_state=42, stratify=y_encoded\n",
    ")"
   ]
  },
  {
   "cell_type": "markdown",
   "id": "2e11e1ee",
   "metadata": {},
   "source": [
    "## Standardization"
   ]
  },
  {
   "cell_type": "code",
   "execution_count": 167,
   "id": "fe11cb0a",
   "metadata": {},
   "outputs": [],
   "source": [
    "scaler = StandardScaler()\n",
    "X_train = scaler.fit_transform(X_train)\n",
    "X_test = scaler.transform(X_test)"
   ]
  },
  {
   "cell_type": "markdown",
   "id": "6d51330e",
   "metadata": {},
   "source": [
    "## Conversion to tensor"
   ]
  },
  {
   "cell_type": "code",
   "execution_count": 168,
   "id": "ef1ee166",
   "metadata": {},
   "outputs": [],
   "source": [
    "X_train_t = torch.tensor(X_train, dtype=torch.float32)\n",
    "y_train_t = torch.tensor(y_train, dtype=torch.long)\n",
    "X_test_t = torch.tensor(X_test, dtype=torch.float32)\n",
    "y_test_t = torch.tensor(y_test, dtype=torch.long)"
   ]
  },
  {
   "cell_type": "markdown",
   "id": "6e7cfcef",
   "metadata": {},
   "source": [
    "## DataLoader"
   ]
  },
  {
   "cell_type": "code",
   "execution_count": 169,
   "id": "acfc901d",
   "metadata": {},
   "outputs": [],
   "source": [
    "train_ds = TensorDataset(X_train_t, y_train_t)\n",
    "test_ds = TensorDataset(X_test_t, y_test_t)\n",
    "\n",
    "train_dl = DataLoader(train_ds, batch_size=16, shuffle=True)\n",
    "test_dl = DataLoader(test_ds, batch_size=16, shuffle=False)"
   ]
  },
  {
   "cell_type": "markdown",
   "id": "45f99a02",
   "metadata": {},
   "source": [
    "# Model"
   ]
  },
  {
   "cell_type": "code",
   "execution_count": null,
   "id": "df287658",
   "metadata": {},
   "outputs": [],
   "source": [
    "class MLP(nn.Module):\n",
    "    def __init__(self, input_dim, num_classes):\n",
    "        super().__init__()\n",
    "        self.fc1 = nn.Linear(input_dim, 32)\n",
    "        self.fc2 = nn.Linear(32, 16)\n",
    "        self.fc3 = nn.Linear(16, num_classes)\n",
    "        self.activation = nn.ReLU()\n",
    "        \n",
    "    def forward(self, x):\n",
    "        x = self.activation(self.fc1(x))\n",
    "        x = self.activation(self.fc2(x))\n",
    "        x = self.fc3(x)  # logits\n",
    "        return x\n",
    "\n",
    "model = MLP(input_dim=X_train.shape[1], num_classes=len(le.classes_))\n",
    "\n",
    "# loss + optimizer\n",
    "criterion = nn.CrossEntropyLoss()\n",
    "optimizer = optim.Adam(model.parameters(), lr=0.001)"
   ]
  },
  {
   "cell_type": "markdown",
   "id": "cc780bbe",
   "metadata": {},
   "source": [
    "# Trening"
   ]
  },
  {
   "cell_type": "code",
   "execution_count": 171,
   "id": "f79113b8",
   "metadata": {},
   "outputs": [
    {
     "name": "stdout",
     "output_type": "stream",
     "text": [
      "Epoch 1/2000 | val loss: 1.5799\n",
      "Epoch 10/2000 | val loss: 1.0060\n",
      "Epoch 20/2000 | val loss: 0.5458\n",
      "Epoch 30/2000 | val loss: 0.3550\n",
      "Epoch 40/2000 | val loss: 0.2902\n",
      "Epoch 50/2000 | val loss: 0.2413\n",
      "Epoch 60/2000 | val loss: 0.2333\n",
      "Stop at epoch 62\n"
     ]
    },
    {
     "data": {
      "text/plain": [
       "<All keys matched successfully>"
      ]
     },
     "execution_count": 171,
     "metadata": {},
     "output_type": "execute_result"
    }
   ],
   "source": [
    "epochs = 2000\n",
    "patience, counter = 5, 0\n",
    "best_loss, best_state = float(\"inf\"), None\n",
    "\n",
    "for epoch in range(epochs):\n",
    "    # --- train ---\n",
    "    model.train()\n",
    "    for xb, yb in train_dl:\n",
    "        optimizer.zero_grad()\n",
    "        loss = criterion(model(xb), yb)\n",
    "        loss.backward()\n",
    "        optimizer.step()\n",
    "\n",
    "    # --- val ---\n",
    "    model.eval()\n",
    "    with torch.no_grad():\n",
    "        val_loss = criterion(model(X_test_t), y_test_t).item()\n",
    "\n",
    "    # --- early stopping ---\n",
    "    if val_loss < best_loss:\n",
    "        best_loss, best_state, counter = val_loss, model.state_dict(), 0\n",
    "    else:\n",
    "        counter += 1\n",
    "        if counter >= patience:\n",
    "            print(f\"Stop at epoch {epoch+1}\")\n",
    "            break\n",
    "\n",
    "    if (epoch+1) % 10 == 0 or epoch == 0:\n",
    "        print(f\"Epoch {epoch+1}/{epochs} | val loss: {val_loss:.4f}\")\n",
    "\n",
    "# wczytanie najlepszego modelu\n",
    "model.load_state_dict(best_state)\n"
   ]
  },
  {
   "cell_type": "markdown",
   "id": "6f6cb9b4",
   "metadata": {},
   "source": [
    "# Evaluation"
   ]
  },
  {
   "cell_type": "code",
   "execution_count": 172,
   "id": "2b6ec34b",
   "metadata": {},
   "outputs": [
    {
     "name": "stdout",
     "output_type": "stream",
     "text": [
      "Classification report:\n",
      "               precision    recall  f1-score   support\n",
      "\n",
      "           A       0.67      0.80      0.73         5\n",
      "           B       0.86      0.75      0.80         8\n",
      "           C       0.96      1.00      0.98        24\n",
      "           D       1.00      0.83      0.91        18\n",
      "           E       0.91      1.00      0.95        30\n",
      "           F       1.00      0.98      0.99        63\n",
      "           S       0.00      0.00      0.00         2\n",
      "\n",
      "    accuracy                           0.94       150\n",
      "   macro avg       0.77      0.77      0.77       150\n",
      "weighted avg       0.94      0.94      0.94       150\n",
      "\n"
     ]
    },
    {
     "data": {
      "image/png": "[encoded data removed]",
      "text/plain": [
       "<Figure size 640x480 with 2 Axes>"
      ]
     },
     "metadata": {},
     "output_type": "display_data"
    }
   ],
   "source": [
    "model.eval()\n",
    "with torch.no_grad():\n",
    "    logits = model(X_test_t)\n",
    "    y_pred = torch.argmax(logits, dim=1).numpy()\n",
    "\n",
    "print(\"Classification report:\\n\", classification_report(y_test, y_pred, target_names=le.classes_))\n",
    "\n",
    "# macierz konfuzji\n",
    "cm = confusion_matrix(y_test, y_pred)\n",
    "disp = ConfusionMatrixDisplay(confusion_matrix=cm, display_labels=le.classes_)\n",
    "disp.plot(cmap=\"Blues\")\n",
    "plt.show()"
   ]
  },
  {
   "cell_type": "markdown",
   "id": "e2cde7c5",
   "metadata": {},
   "source": [
    "# Summary of results"
   ]
  },
  {
   "cell_type": "code",
   "execution_count": 173,
   "id": "9995efce",
   "metadata": {},
   "outputs": [
    {
     "name": "stdout",
     "output_type": "stream",
     "text": [
      "Ogólna dokładność: 94.00% \n",
      "\n",
      "Dokładność per klasa:\n",
      "True\n",
      "A     80.000000\n",
      "B     75.000000\n",
      "C    100.000000\n",
      "D     83.333333\n",
      "E    100.000000\n",
      "F     98.412698\n",
      "S      0.000000\n",
      "dtype: float64\n",
      "\n",
      "Porównanie True vs Pred (pierwsze 20 próbek):\n"
     ]
    },
    {
     "name": "stderr",
     "output_type": "stream",
     "text": [
      "C:\\Users\\oskar\\AppData\\Local\\Temp\\ipykernel_11144\\798066821.py:12: FutureWarning: DataFrameGroupBy.apply operated on the grouping columns. This behavior is deprecated, and in a future version of pandas the grouping columns will be excluded from the operation. Either pass `include_groups=False` to exclude the groupings or explicitly select the grouping columns after groupby to silence this warning.\n",
      "  accuracy_per_class = results.groupby(\"True\").apply(lambda x: (x[\"True\"] == x[\"Pred\"]).mean()) * 100\n"
     ]
    },
    {
     "data": {
      "text/html": [
       "<div>\n",
       "<style scoped>\n",
       "    .dataframe tbody tr th:only-of-type {\n",
       "        vertical-align: middle;\n",
       "    }\n",
       "\n",
       "    .dataframe tbody tr th {\n",
       "        vertical-align: top;\n",
       "    }\n",
       "\n",
       "    .dataframe thead th {\n",
       "        text-align: right;\n",
       "    }\n",
       "</style>\n",
       "<table border=\"1\" class=\"dataframe\">\n",
       "  <thead>\n",
       "    <tr style=\"text-align: right;\">\n",
       "      <th></th>\n",
       "      <th>True</th>\n",
       "      <th>Pred</th>\n",
       "    </tr>\n",
       "  </thead>\n",
       "  <tbody>\n",
       "    <tr>\n",
       "      <th>0</th>\n",
       "      <td>F</td>\n",
       "      <td>F</td>\n",
       "    </tr>\n",
       "    <tr>\n",
       "      <th>1</th>\n",
       "      <td>D</td>\n",
       "      <td>E</td>\n",
       "    </tr>\n",
       "    <tr>\n",
       "      <th>2</th>\n",
       "      <td>C</td>\n",
       "      <td>C</td>\n",
       "    </tr>\n",
       "    <tr>\n",
       "      <th>3</th>\n",
       "      <td>D</td>\n",
       "      <td>D</td>\n",
       "    </tr>\n",
       "    <tr>\n",
       "      <th>4</th>\n",
       "      <td>D</td>\n",
       "      <td>D</td>\n",
       "    </tr>\n",
       "    <tr>\n",
       "      <th>5</th>\n",
       "      <td>E</td>\n",
       "      <td>E</td>\n",
       "    </tr>\n",
       "    <tr>\n",
       "      <th>6</th>\n",
       "      <td>B</td>\n",
       "      <td>B</td>\n",
       "    </tr>\n",
       "    <tr>\n",
       "      <th>7</th>\n",
       "      <td>F</td>\n",
       "      <td>F</td>\n",
       "    </tr>\n",
       "    <tr>\n",
       "      <th>8</th>\n",
       "      <td>F</td>\n",
       "      <td>F</td>\n",
       "    </tr>\n",
       "    <tr>\n",
       "      <th>9</th>\n",
       "      <td>F</td>\n",
       "      <td>F</td>\n",
       "    </tr>\n",
       "    <tr>\n",
       "      <th>10</th>\n",
       "      <td>E</td>\n",
       "      <td>E</td>\n",
       "    </tr>\n",
       "    <tr>\n",
       "      <th>11</th>\n",
       "      <td>A</td>\n",
       "      <td>A</td>\n",
       "    </tr>\n",
       "    <tr>\n",
       "      <th>12</th>\n",
       "      <td>F</td>\n",
       "      <td>F</td>\n",
       "    </tr>\n",
       "    <tr>\n",
       "      <th>13</th>\n",
       "      <td>C</td>\n",
       "      <td>C</td>\n",
       "    </tr>\n",
       "    <tr>\n",
       "      <th>14</th>\n",
       "      <td>E</td>\n",
       "      <td>E</td>\n",
       "    </tr>\n",
       "    <tr>\n",
       "      <th>15</th>\n",
       "      <td>E</td>\n",
       "      <td>E</td>\n",
       "    </tr>\n",
       "    <tr>\n",
       "      <th>16</th>\n",
       "      <td>E</td>\n",
       "      <td>E</td>\n",
       "    </tr>\n",
       "    <tr>\n",
       "      <th>17</th>\n",
       "      <td>D</td>\n",
       "      <td>D</td>\n",
       "    </tr>\n",
       "    <tr>\n",
       "      <th>18</th>\n",
       "      <td>E</td>\n",
       "      <td>E</td>\n",
       "    </tr>\n",
       "    <tr>\n",
       "      <th>19</th>\n",
       "      <td>F</td>\n",
       "      <td>F</td>\n",
       "    </tr>\n",
       "    <tr>\n",
       "      <th>20</th>\n",
       "      <td>F</td>\n",
       "      <td>F</td>\n",
       "    </tr>\n",
       "    <tr>\n",
       "      <th>21</th>\n",
       "      <td>D</td>\n",
       "      <td>D</td>\n",
       "    </tr>\n",
       "    <tr>\n",
       "      <th>22</th>\n",
       "      <td>C</td>\n",
       "      <td>C</td>\n",
       "    </tr>\n",
       "    <tr>\n",
       "      <th>23</th>\n",
       "      <td>E</td>\n",
       "      <td>E</td>\n",
       "    </tr>\n",
       "    <tr>\n",
       "      <th>24</th>\n",
       "      <td>F</td>\n",
       "      <td>F</td>\n",
       "    </tr>\n",
       "    <tr>\n",
       "      <th>25</th>\n",
       "      <td>A</td>\n",
       "      <td>A</td>\n",
       "    </tr>\n",
       "    <tr>\n",
       "      <th>26</th>\n",
       "      <td>F</td>\n",
       "      <td>F</td>\n",
       "    </tr>\n",
       "    <tr>\n",
       "      <th>27</th>\n",
       "      <td>E</td>\n",
       "      <td>E</td>\n",
       "    </tr>\n",
       "    <tr>\n",
       "      <th>28</th>\n",
       "      <td>F</td>\n",
       "      <td>F</td>\n",
       "    </tr>\n",
       "    <tr>\n",
       "      <th>29</th>\n",
       "      <td>E</td>\n",
       "      <td>E</td>\n",
       "    </tr>\n",
       "  </tbody>\n",
       "</table>\n",
       "</div>"
      ],
      "text/plain": [
       "   True Pred\n",
       "0     F    F\n",
       "1     D    E\n",
       "2     C    C\n",
       "3     D    D\n",
       "4     D    D\n",
       "5     E    E\n",
       "6     B    B\n",
       "7     F    F\n",
       "8     F    F\n",
       "9     F    F\n",
       "10    E    E\n",
       "11    A    A\n",
       "12    F    F\n",
       "13    C    C\n",
       "14    E    E\n",
       "15    E    E\n",
       "16    E    E\n",
       "17    D    D\n",
       "18    E    E\n",
       "19    F    F\n",
       "20    F    F\n",
       "21    D    D\n",
       "22    C    C\n",
       "23    E    E\n",
       "24    F    F\n",
       "25    A    A\n",
       "26    F    F\n",
       "27    E    E\n",
       "28    F    F\n",
       "29    E    E"
      ]
     },
     "metadata": {},
     "output_type": "display_data"
    }
   ],
   "source": [
    "results = pd.DataFrame({\n",
    "    \"True\": le.inverse_transform(y_test),\n",
    "    \"Pred\": le.inverse_transform(y_pred)\n",
    "})\n",
    "\n",
    "# ogólna liczba poprawnych przewidywań\n",
    "correct = (results[\"True\"] == results[\"Pred\"]).sum()\n",
    "total = len(results)\n",
    "accuracy = correct / total\n",
    "\n",
    "# dokładność per klasa\n",
    "accuracy_per_class = results.groupby(\"True\").apply(lambda x: (x[\"True\"] == x[\"Pred\"]).mean()) * 100\n",
    "\n",
    "print(f\"Ogólna dokładność: {accuracy:.2%} \\n\")\n",
    "print(\"Dokładność per klasa:\")\n",
    "print(accuracy_per_class)\n",
    "\n",
    "print(\"\\nPorównanie True vs Pred (pierwsze 20 próbek):\")\n",
    "display(results.head(30))"
   ]
  }
 ],
 "metadata": {
  "kernelspec": {
   "display_name": "Python 3",
   "language": "python",
   "name": "python3"
  },
  "language_info": {
   "codemirror_mode": {
    "name": "ipython",
    "version": 3
   },
   "file_extension": ".py",
   "mimetype": "text/x-python",
   "name": "python",
   "nbconvert_exporter": "python",
   "pygments_lexer": "ipython3",
   "version": "3.12.0"
  }
 },
 "nbformat": 4,
 "nbformat_minor": 5
}
